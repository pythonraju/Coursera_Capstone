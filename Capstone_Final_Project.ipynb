{
 "cells": [
  {
   "cell_type": "markdown",
   "metadata": {
    "collapsed": true
   },
   "source": [
    "<font size=10><b>IBM Data Science Final Project</b></font>"
   ]
  },
  {
   "cell_type": "markdown",
   "metadata": {},
   "source": [
    "<font size=6><b>Introduction: Business Problem</b></font>"
   ]
  },
  {
   "cell_type": "markdown",
   "metadata": {},
   "source": [
    "<b>One of my friends , Robinson is relocating to India and is intersted in setting up a Goan restaurant in Chennai.He has been a sea food lover since his childhood. He is looking at locations where presence of resturants is minimal and in particular there are no Goan Cuisine restaurants. He has asked me to leverage my data science skills and come up with ideal locations for his new venture i.e. Goan restaurant.</b>"
   ]
  },
  {
   "cell_type": "markdown",
   "metadata": {},
   "source": [
    "<font size=6><b>Data</b></font>"
   ]
  },
  {
   "cell_type": "markdown",
   "metadata": {},
   "source": [
    "<b> Based on my friend's requirements, below are the factors that needs to be considered</b>\n",
    "1. Number of existing restaurants in each neighborhood\n",
    "2. Number of Goan restaurants in each neighborhood\n",
    "3. Proximity and distance\n",
    "\n",
    "<b>To achieve the above:</b>\n",
    "1. First we need to get the list of neighborhoods in Chennai city\n",
    "https://en.wikipedia.org/wiki/Category:Suburbs_of_Chennai\n",
    "2. We need to scrape the wikipedia page containing the neighborhoods details ans fetch them\n",
    "3. Then for each neighborhood, get latitude and longitude using Google Maps API\n",
    "4. Then, using the four square API,get the restaurants and Goan Restaurant in each neighborhood\n"
   ]
  },
  {
   "cell_type": "code",
   "execution_count": null,
   "metadata": {},
   "outputs": [],
   "source": []
  }
 ],
 "metadata": {
  "kernelspec": {
   "display_name": "Python 3.6",
   "language": "python",
   "name": "python3"
  },
  "language_info": {
   "codemirror_mode": {
    "name": "ipython",
    "version": 3
   },
   "file_extension": ".py",
   "mimetype": "text/x-python",
   "name": "python",
   "nbconvert_exporter": "python",
   "pygments_lexer": "ipython3",
   "version": "3.6.8"
  }
 },
 "nbformat": 4,
 "nbformat_minor": 1
}
